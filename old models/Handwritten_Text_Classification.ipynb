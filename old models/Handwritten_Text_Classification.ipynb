{
 "cells": [
  {
   "cell_type": "markdown",
   "metadata": {},
   "source": [
    "# Handwritten Digit Classification using a Convolutional Neural Network (CNN)"
   ]
  },
  {
   "cell_type": "markdown",
   "metadata": {},
   "source": [
    "This notebook walks through the process of building, training, and evaluating a CNN for classifying handwritten characters from the provided dataset."
   ]
  },
  {
   "cell_type": "markdown",
   "metadata": {},
   "source": [
    "## 1. Import Libraries"
   ]
  },
  {
   "cell_type": "code",
   "execution_count": null,
   "metadata": {},
   "outputs": [],
   "source": [
    "import numpy as np\n",
    "import pandas as pd\n",
    "import matplotlib.pyplot as plt\n",
    "import seaborn as sns\n",
    "from PIL import Image\n",
    "import os\n",
    "\n",
    "from sklearn.model_selection import train_test_split\n",
    "from sklearn.preprocessing import LabelBinarizer\n",
    "from sklearn.metrics import classification_report, confusion_matrix\n",
    "\n",
    "import tensorflow as tf\n",
    "from tensorflow.keras.models import Sequential\n",
    "from tensorflow.keras.layers import Conv2D, MaxPooling2D, Flatten, Dense\n",
    "from tensorflow.keras.preprocessing.image import ImageDataGenerator"
   ]
  },
  {
   "cell_type": "markdown",
   "metadata": {},
   "source": [
    "## 2. Data Loading and Preprocessing"
   ]
  },
  {
   "cell_type": "code",
   "execution_count": null,
   "metadata": {},
   "outputs": [],
   "source": [
    "# Load the CSV file\n",
    "csv_path = 'dataset/english.csv'\n",
    "data = pd.read_csv(csv_path)\n",
    "\n",
    "# Display the first few rows of the dataframe\n",
    "print(data.head())\n",
    "\n",
    "# Load images and labels\n",
    "images = []\n",
    "labels = []\n",
    "img_dir = 'dataset'\n",
    "\n",
    "for index, row in data.iterrows():\n",
    "    img_path = os.path.join(img_dir, row['image'])\n",
    "    try:\n",
    "        # Open image, convert to grayscale, and resize\n",
    "        img = Image.open(img_path).convert('L')\n",
    "        img = img.resize((28, 28))\n",
    "        \n",
    "        # Convert image to numpy array and normalize\n",
    "        img_array = np.array(img) / 255.0\n",
    "        \n",
    "        images.append(img_array)\n",
    "        labels.append(row['label'])\n",
    "    except FileNotFoundError:\n",
    "        print(f'Warning: Image not found at {img_path}')\n",
    "\n",
    "# Convert lists to numpy arrays\n",
    "images = np.array(images)\n",
    "labels = np.array(labels)\n",
    "\n",
    "# Reshape images for the model (add channel dimension)\n",
    "images = images.reshape(-1, 28, 28, 1)\n",
    "\n",
    "# One-hot encode the labels\n",
    "label_binarizer = LabelBinarizer()\n",
    "labels = label_binarizer.fit_transform(labels)\n",
    "\n",
    "# Split the dataset into training and testing sets\n",
    "X_train, X_test, y_train, y_test = train_test_split(images, labels, test_size=0.2, random_state=42, stratify=labels)\n",
    "\n",
    "print(f'Training data shape: {X_train.shape}')\n",
    "print(f'Testing data shape: {X_test.shape}')"
   ]
  },
  {
   "cell_type": "markdown",
   "metadata": {},
   "source": [
    "## 3. Visualize Sample Images"
   ]
  },
  {
   "cell_type": "code",
   "execution_count": null,
   "metadata": {},
   "outputs": [],
   "source": [
    "# Get class names\n",
    "class_names = label_binarizer.classes_\n",
    "\n",
    "# Create a dictionary to store one image per class\n",
    "sample_images = {class_name: None for class_name in class_names}\n",
    "\n",
    "# Decode one-hot encoded labels for visualization\n",
    "y_train_decoded = label_binarizer.inverse_transform(y_train)\n",
    "\n",
    "for i in range(len(X_train)):\n",
    "    label = y_train_decoded[i]\n",
    "    if sample_images[label] is None:\n",
    "        sample_images[label] = X_train[i]\n",
    "    # Break if we have one sample for each class\n",
    "    if all(v is not None for v in sample_images.values()):\n",
    "        break\n",
    "\n",
    "# Plot the sample images\n",
    "plt.figure(figsize=(12, 8))\n",
    "for i, (label, img) in enumerate(sample_images.items()):\n",
    "    if img is not None:\n",
    "        plt.subplot(6, 11, i + 1)\n",
    "        plt.imshow(img.reshape(28, 28), cmap='gray')\n",
    "        plt.title(f'Label: {label}')\n",
    "        plt.axis('off')\n",
    "plt.tight_layout()\n",
    "plt.show()"
   ]
  },
  {
   "cell_type": "markdown",
   "metadata": {},
   "source": [
    "## 4. Build the CNN Model"
   ]
  },
  {
   "cell_type": "code",
   "execution_count": null,
   "metadata": {},
   "outputs": [],
   "source": [
    "model = Sequential([\n",
    "    Conv2D(32, (3, 3), activation='relu', input_shape=(28, 28, 1)),\n",
    "    MaxPooling2D((2, 2)),\n",
    "    Conv2D(64, (3, 3), activation='relu'),\n",
    "    MaxPooling2D((2, 2)),\n",
    "    Flatten(),\n",
    "    Dense(128, activation='relu'),\n",
    "    Dense(len(class_names), activation='softmax')\n",
    "])\n",
    "\n",
    "# Compile the model\n",
    "model.compile(optimizer='adam',\n",
    "              loss='categorical_crossentropy',\n",
    "              metrics=['accuracy'])\n",
    "\n",
    "model.summary()"
   ]
  },
  {
   "cell_type": "markdown",
   "metadata": {},
   "source": [
    "## 5. Train the Model"
   ]
  },
  {
   "cell_type": "code",
   "execution_count": null,
   "metadata": {},
   "outputs": [],
   "source": [
    "history = model.fit(X_train, y_train, epochs=10, validation_data=(X_test, y_test), batch_size=32)\n",
    "\n",
    "# Plot training & validation accuracy values\n",
    "plt.figure(figsize=(12, 4))\n",
    "plt.subplot(1, 2, 1)\n",
    "plt.plot(history.history['accuracy'])\n",
    "plt.plot(history.history['val_accuracy'])\n",
    "plt.title('Model accuracy')\n",
    "plt.ylabel('Accuracy')\n",
    "plt.xlabel('Epoch')\n",
    "plt.legend(['Train', 'Test'], loc='upper left')\n",
    "\n",
    "# Plot training & validation loss values\n",
    "plt.subplot(1, 2, 2)\n",
    "plt.plot(history.history['loss'])\n",
    "plt.plot(history.history['val_loss'])\n",
    "plt.title('Model loss')\n",
    "plt.ylabel('Loss')\n",
    "plt.xlabel('Epoch')\n",
    "plt.legend(['Train', 'Test'], loc='upper left')\n",
    "\n",
    "plt.show()"
   ]
  },
  {
   "cell_type": "markdown",
   "metadata": {},
   "source": [
    "## 6. Evaluate the Model"
   ]
  },
  {
   "cell_type": "code",
   "execution_count": null,
   "metadata": {},
   "outputs": [],
   "source": [
    "# Evaluate the model on the test set\n",
    "loss, accuracy = model.evaluate(X_test, y_test, verbose=0)\n",
    "print(f'Test Accuracy: {accuracy * 100:.2f}%')\n",
    "\n",
    "# Get predictions\n",
    "y_pred = model.predict(X_test)\n",
    "y_pred_classes = np.argmax(y_pred, axis=1)\n",
    "y_true = np.argmax(y_test, axis=1)\n",
    "\n",
    "# Confusion Matrix\n",
    "conf_matrix = confusion_matrix(y_true, y_pred_classes)\n",
    "plt.figure(figsize=(15, 12))\n",
    "sns.heatmap(conf_matrix, annot=True, fmt='d', cmap='Blues', xticklabels=class_names, yticklabels=class_names)\n",
    "plt.title('Confusion Matrix')\n",
    "plt.xlabel('Predicted Label')\n",
    "plt.ylabel('True Label')\n",
    "plt.show()\n",
    "\n",
    "# Classification Report\n",
    "print('\\nClassification Report:')\n",
    "print(classification_report(y_true, y_pred_classes, target_names=class_names))"
   ]
  },
  {
   "cell_type": "markdown",
   "metadata": {},
   "source": [
    "## 7. Save the Trained Model"
   ]
  },
  {
   "cell_type": "code",
   "execution_count": null,
   "metadata": {},
   "outputs": [],
   "source": [
    "model.save('htr_model.h5')\n",
    "print('Model saved as htr_model.h5')"
   ]
  },
  {
   "cell_type": "markdown",
   "metadata": {},
   "source": [
    "## 8. Prediction Function for a New Image"
   ]
  },
  {
   "cell_type": "code",
   "execution_count": null,
   "metadata": {},
   "outputs": [],
   "source": [
    "def predict_image(image_path, model, label_binarizer):\n",
    "    try:\n",
    "        # Load and preprocess the image\n",
    "        img = Image.open(image_path).convert('L')\n",
    "        img_resized = img.resize((28, 28))\n",
    "        img_array = np.array(img_resized) / 255.0\n",
    "        img_reshaped = img_array.reshape(1, 28, 28, 1)\n",
    "        \n",
    "        # Make a prediction\n",
    "        prediction = model.predict(img_reshaped)\n",
    "        predicted_class = label_binarizer.inverse_transform(prediction)[0]\n",
    "        \n",
    "        # Display the image and prediction\n",
    "        plt.imshow(img_array, cmap='gray')\n",
    "        plt.title(f'Predicted Class: {predicted_class}')\n",
    "        plt.axis('off')\n",
    "        plt.show()\n",
    "        \n",
    "        return predicted_class\n",
    "    except FileNotFoundError:\n",
    "        print(f'Error: Image not found at {image_path}')\n",
    "        return None\n",
    "\n",
    "# Example usage (replace with a path to a test image)\n",
    "# Note: You need an image to test this. Let's use one from the test set as an example.\n",
    "if len(X_test) > 0:\n",
    "    # Save a test image to a temporary file to simulate a new image\n",
    "    test_image_array = (X_test[0].reshape(28, 28) * 255).astype(np.uint8)\n",
    "    test_image = Image.fromarray(test_image_array)\n",
    "    test_image_path = 'temp_test_image.png'\n",
    "    test_image.save(test_image_path)\n",
    "    \n",
    "    predict_image(test_image_path, model, label_binarizer)\n",
    "    \n",
    "    # Clean up the temporary file\n",
    "    os.remove(test_image_path)"
   ]
  }
 ],
 "metadata": {
  "kernelspec": {
   "display_name": "Python 3",
   "language": "python",
   "name": "python3"
  },
  "language_info": {
   "codemirror_mode": {
    "name": "ipython",
    "version": 3
   },
   "file_extension": ".py",
   "mimetype": "text/x-python",
   "name": "python",
   "nbconvert_exporter": "python",
   "pygments_lexer": "ipython3",
   "version": "3.11.9"
  }
 },
 "nbformat": 4,
 "nbformat_minor": 4
}
