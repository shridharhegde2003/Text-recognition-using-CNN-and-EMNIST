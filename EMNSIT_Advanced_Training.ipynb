{
 "cells": [
  {
   "cell_type": "markdown",
   "metadata": {},
   "source": [
    "# Advanced Handwritten Character Recognition with EMNIST\n",
    "\n",
    "This notebook provides a robust workflow for training a CNN model on the EMNIST dataset. Key features include:\n",
    "\n",
    "1.  **Fast Training by Default**: Uses a 20% subset of the training data and runs for only 10 epochs.\n",
    "2.  **Interrupt Handling**: Uses a custom callback to save training history (`loss`, `accuracy`) after every epoch. You can stop training at any time and still plot the results.\n",
    "3.  **Improved CNN Model**: A more robust architecture with Dropout for better generalization.\n",
    "4.  **Full Analysis**: Generates all necessary plots, a confusion matrix, and a classification report."
   ]
  },
  {
   "cell_type": "markdown",
   "metadata": {},
   "source": [
    "### 1. Imports and Custom Callback Definition"
   ]
  },
  {
   "cell_type": "code",
   "execution_count": null,
   "metadata": {},
   "outputs": [],
   "source": [
    "import tensorflow as tf\n",
    "import tensorflow_datasets as tfds\n",
    "import numpy as np\n",
    "import matplotlib.pyplot as plt\n",
    "import seaborn as sns\n",
    "from sklearn.metrics import confusion_matrix, classification_report\n",
    "import pickle\n",
    "import pandas as pd\n",
    "\n",
    "# Custom callback to save history and allow plotting even if training is interrupted\n",
    "class HistoryCallback(tf.keras.callbacks.Callback):\n",
    "    def on_train_begin(self, logs=None):\n",
    "        self.epoch = []\n",
    "        self.history = {}\n",
    "\n",
    "    def on_epoch_end(self, epoch, logs=None):\n",
    "        logs = logs or {}\n",
    "        self.epoch.append(epoch)\n",
    "        for k, v in logs.items():\n",
    "            self.history.setdefault(k, []).append(v)\n",
    "        \n",
    "        # Save history to a file after each epoch so we don't lose it\n",
    "        with open('training_history.pkl', 'wb') as f:\n",
    "            pickle.dump(self.history, f)\n",
    "\n",
    "    def on_train_end(self, logs=None):\n",
    "         print(\"Training finished. History is available in `history_callback.history` and `training_history.pkl`\")"
   ]
  },
  {
   "cell_type": "markdown",
   "metadata": {},
   "source": [
    "### 2. Load and Preprocess the EMNIST Dataset\n",
    "\n",
    "We will use the `byclass` split which has 62 classes (0-9, A-Z, a-z). By default, we load only **20% of the training data** and **50% of the test data** to speed things up. You can change this by modifying the `split` argument."
   ]
  },
  {
   "cell_type": "code",
   "execution_count": null,
   "metadata": {},
   "outputs": [],
   "source": [
    "(ds_train, ds_test), ds_info = tfds.load(\n",
    "    'emnist/byclass',\n",
    "    # To use the full dataset, change this to: split=['train', 'test']\n",
    "    split=['train[:20%]', 'test[:50%]'],\n",
    "    shuffle_files=True,\n",
    "    as_supervised=True,\n",
    "    with_info=True,\n",
    ")\n",
    "\n",
    "# Function to normalize and reshape images\n",
    "def normalize_img(image, label):\n",
    "    image = tf.cast(image, tf.float32) / 255.0\n",
    "    # EMNIST images are rotated and flipped, we need to fix them\n",
    "    image = tf.transpose(image, perm=[1, 0, 2])\n",
    "    return image, label\n",
    "\n",
    "# Prepare the datasets\n",
    "BATCH_SIZE = 128\n",
    "ds_train = ds_train.map(normalize_img, num_parallel_calls=tf.data.AUTOTUNE)\n",
    "ds_train = ds_train.cache()\n",
    "ds_train = ds_train.shuffle(ds_info.splits['train'].num_examples)\n",
    "ds_train = ds_train.batch(BATCH_SIZE)\n",
    "ds_train = ds_train.prefetch(tf.data.AUTOTUNE)\n",
    "\n",
    "ds_test = ds_test.map(normalize_img, num_parallel_calls=tf.data.AUTOTUNE)\n",
    "ds_test = ds_test.batch(BATCH_SIZE)\n",
    "ds_test = ds_test.cache()\n",
    "ds_test = ds_test.prefetch(tf.data.AUTOTUNE)\n",
    "\n",
    "print(f\"Number of classes: {ds_info.features['label'].num_classes}\")"
   ]
  },
  {
   "cell_type": "markdown",
   "metadata": {},
   "source": [
    "### 3. Build the CNN Model"
   ]
  },
  {
   "cell_type": "code",
   "execution_count": null,
   "metadata": {},
   "outputs": [],
   "source": [
    "def build_model(num_classes):\n",
    "    model = tf.keras.models.Sequential([\n",
    "        tf.keras.layers.Conv2D(32, (3,3), activation='relu', input_shape=(28, 28, 1)),\n",
    "        tf.keras.layers.MaxPooling2D(2, 2),\n",
    "        tf.keras.layers.Conv2D(64, (3,3), activation='relu'),\n",
    "        tf.keras.layers.MaxPooling2D(2, 2),\n",
    "        tf.keras.layers.Dropout(0.25), # Dropout for regularization\n",
    "        tf.keras.layers.Flatten(),\n",
    "        tf.keras.layers.Dense(256, activation='relu'),\n",
    "        tf.keras.layers.Dropout(0.5), # Dropout for regularization\n",
    "        tf.keras.layers.Dense(num_classes, activation='softmax')\n",
    "    ])\n",
    "    model.compile(optimizer='adam',\n",
    "                  loss='sparse_categorical_crossentropy',\n",
    "                  metrics=['accuracy'])\n",
    "    return model\n",
    "\n",
    "model = build_model(ds_info.features['label'].num_classes)\n",
    "model.summary()"
   ]
  },
  {
   "cell_type": "markdown",
   "metadata": {},
   "source": [
    "### 4. Train the Model\n",
    "\n",
    "We will train for **10 epochs**. You can stop the training at any time, and the plotting in the next cell will still work."
   ]
  },
  {
   "cell_type": "code",
   "execution_count": null,
   "metadata": {},
   "outputs": [],
   "source": [
    "history_callback = HistoryCallback()\n",
    "\n",
    "# The 'history' object returned by fit() will be empty.\n",
    "# All data is stored in our custom callback.\n",
    "model.fit(\n",
    "    ds_train,\n",
    "    epochs=10, # Reduced for faster results\n",
    "    validation_data=ds_test,\n",
    "    callbacks=[history_callback]\n",
    ")"
   ]
  },
  {
   "cell_type": "markdown",
   "metadata": {},
   "source": [
    "### 5. Plot Training History\n",
    "\n",
    "This cell will work even if you stopped the training manually."
   ]
  },
  {
   "cell_type": "code",
   "execution_count": null,
   "metadata": {},
   "outputs": [],
   "source": [
    "# Use the history from our custom callback\n",
    "history_data = history_callback.history\n",
    "\n",
    "# If you restarted the notebook, you can load the history from the file\n",
    "# with open('training_history.pkl', 'rb') as f:\n",
    "#     history_data = pickle.load(f)\n",
    "\n",
    "# Plotting Accuracy\n",
    "plt.figure(figsize=(12, 5))\n",
    "plt.subplot(1, 2, 1)\n",
    "plt.plot(history_data['accuracy'], label='Training Accuracy')\n",
    "plt.plot(history_data['val_accuracy'], label='Validation Accuracy')\n",
    "plt.title('Training and Validation Accuracy')\n",
    "plt.xlabel('Epoch')\n",
    "plt.ylabel('Accuracy')\n",
    "plt.legend()\n",
    "\n",
    "# Plotting Loss\n",
    "plt.subplot(1, 2, 2)\n",
    "plt.plot(history_data['loss'], label='Training Loss')\n",
    "plt.plot(history_data['val_loss'], label='Validation Loss')\n",
    "plt.title('Training and Validation Loss')\n",
    "plt.xlabel('Epoch')\n",
    "plt.ylabel('Loss')\n",
    "plt.legend()\n",
    "\n",
    "plt.tight_layout()\n",
    "plt.show()"
   ]
  },
  {
   "cell_type": "markdown",
   "metadata": {},
   "source": [
    "### 6. Evaluate Model and Save\n",
    "\n",
    "Finally, we evaluate the model on the test set to get the final accuracy and generate a confusion matrix and classification report."
   ]
  },
  {
   "cell_type": "code",
   "execution_count": null,
   "metadata": {},
   "outputs": [],
   "source": [
    "# Evaluate the model\n",
    "loss, accuracy = model.evaluate(ds_test)\n",
    "print(f'Final Test Accuracy: {accuracy*100:.2f}%')\n",
    "\n",
    "# Get predictions\n",
    "y_pred_probs = model.predict(ds_test)\n",
    "y_pred = np.argmax(y_pred_probs, axis=1)\n",
    "y_true = np.concatenate([y for x, y in ds_test], axis=0)\n",
    "\n",
    "# Define class labels\n",
    "class_names = ['0', '1', '2', '3', '4', '5', '6', '7', '8', '9', 'A', 'B', 'C', 'D', 'E', 'F', 'G', 'H', 'I', 'J', 'K', 'L', 'M', 'N', 'O', 'P', 'Q', 'R', 'S', 'T', 'U', 'V', 'W', 'X', 'Y', 'Z', 'a', 'b', 'c', 'd', 'e', 'f', 'g', 'h', 'i', 'j', 'k', 'l', 'm', 'n', 'o', 'p', 'q', 'r', 's', 't', 'u', 'v', 'w', 'x', 'y', 'z']\n",
    "\n",
    "# Classification Report\n",
    "print('\\nClassification Report:')\n",
    "print(classification_report(y_true, y_pred, target_names=class_names))\n",
    "\n",
    "# Confusion Matrix\n",
    "cm = confusion_matrix(y_true, y_pred)\n",
    "plt.figure(figsize=(20, 20))\n",
    "sns.heatmap(cm, annot=False, xticklabels=class_names, yticklabels=class_names)\n",
    "plt.title('Confusion Matrix')\n",
    "plt.xlabel('Predicted')\n",
    "plt.ylabel('True')\n",
    "plt.show()\n",
    "\n",
    "# Save the final model\n",
    "model.save('htr_model.h5')\n",
    "print('\\nModel saved as htr_model.h5')"
   ]
  }
 ],
 "metadata": {
  "kernelspec": {
   "display_name": "Python 3",
   "language": "python",
   "name": "python3"
  },
  "language_info": {
   "codemirror_mode": {
    "name": "ipython",
    "version": 3
   },
   "file_extension": ".py",
   "mimetype": "text/x-python",
   "name": "python",
   "nbconvert_exporter": "python",
   "pygments_lexer": "ipython3",
   "version": "3.9.12"
  }
 },
 "nbformat": 4,
 "nbformat_minor": 4
}